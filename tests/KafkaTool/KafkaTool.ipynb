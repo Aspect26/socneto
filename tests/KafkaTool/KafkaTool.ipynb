{
 "cells": [
  {
   "cell_type": "code",
   "execution_count": 15,
   "metadata": {},
   "outputs": [],
   "source": [
    "from kafka import KafkaConsumer, KafkaProducer\n",
    "import uuid\n",
    "import json"
   ]
  },
  {
   "cell_type": "markdown",
   "metadata": {},
   "source": [
    "## Configuration and topics\n",
    "\n",
    "### Config\n",
    "\n",
    "`kafka_server` - set to `localhost:9094` (use `kafka:9092` if you run it inside a container)\n",
    "\n",
    "### Topics\n",
    "\n",
    "`sentiment` - sentiment analyser\n"
   ]
  },
  {
   "cell_type": "code",
   "execution_count": 11,
   "metadata": {},
   "outputs": [],
   "source": [
    "config = {\n",
    "    'kafka_server':'localhost:9094'\n",
    "}\n",
    "\n",
    "topics = {\n",
    "    'sentiment': 'job_management.component_data_input.DataAnalyser_topics'\n",
    "}\n",
    "\n",
    "producer = KafkaProducer(bootstrap_servers=config['kafka_server'])\n",
    "\n",
    "def produce_request(request,topic):\n",
    "    json_request = json.dumps(request)\n",
    "    post_bytes = json_request.encode('utf-8')\n",
    "    future = producer.send(topic, post_bytes)\n",
    "\n"
   ]
  },
  {
   "cell_type": "markdown",
   "metadata": {},
   "source": [
    "## Produce post"
   ]
  },
  {
   "cell_type": "code",
   "execution_count": 16,
   "metadata": {},
   "outputs": [],
   "source": [
    "def produce_post(topic, \n",
    "                 originalPostId = \"1234567\",\n",
    "                 postId = \"0bb89a04-2f35-41bc-aa17-3d9dc159052d\",\n",
    "                jobId = \"e3a7ce8b-2d10-46ff-ba91-925a5a99a3e9\",\n",
    "                text=\"test text\",\n",
    "                originalText = None,\n",
    "                language = \"en\",\n",
    "                source = \"manual\",\n",
    "                authorId = \"0\",\n",
    "                dateTime = \"2020-01-01T00:00\"):\n",
    "    request={\n",
    "        \"originalPostId\":originalPostId,\n",
    "        \"postId\":postId,\n",
    "        \"jobId\":jobId,\n",
    "        \"text\":text,\n",
    "        \"originalText\":originalText,\n",
    "        \"language\":language,\n",
    "        \"source\":source,\n",
    "        \"authorId\":authorId,\n",
    "        \"dateTime\":dateTime\n",
    "    }\n",
    "    produce_request(request,topic)\n",
    "    "
   ]
  },
  {
   "cell_type": "code",
   "execution_count": 24,
   "metadata": {},
   "outputs": [],
   "source": [
    "\n",
    "produce_post(topics['sentiment'])"
   ]
  }
 ],
 "metadata": {
  "kernelspec": {
   "display_name": "Python 3",
   "language": "python",
   "name": "python3"
  },
  "language_info": {
   "codemirror_mode": {
    "name": "ipython",
    "version": 3
   },
   "file_extension": ".py",
   "mimetype": "text/x-python",
   "name": "python",
   "nbconvert_exporter": "python",
   "pygments_lexer": "ipython3",
   "version": "3.7.1"
  }
 },
 "nbformat": 4,
 "nbformat_minor": 2
}
