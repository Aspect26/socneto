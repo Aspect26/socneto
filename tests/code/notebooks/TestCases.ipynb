{
 "cells": [
  {
   "cell_type": "code",
   "execution_count": 1,
   "metadata": {},
   "outputs": [],
   "source": [
    "import importtestsmodule\n",
    "import json\n",
    "import kafka_client\n",
    "import utils\n",
    "import test_da"
   ]
  },
  {
   "cell_type": "markdown",
   "metadata": {},
   "source": [
    "## Configuration and topics\n",
    "\n",
    "### Config\n",
    "\n",
    "`kafka_server` - set to `localhost:9094` (use `kafka:9092` if you run it inside a container)\n",
    "\n",
    "### Topics\n",
    "\n",
    "`sentiment` - sentiment analyser\n",
    "\n",
    "### Credentials\n",
    "\n",
    "Stored in a file `cred.json`. Some data acquirers require credentials.\n"
   ]
  },
  {
   "cell_type": "code",
   "execution_count": null,
   "metadata": {},
   "outputs": [],
   "source": [
    "config=utils.load_config(\"../config.json\")\n",
    "cred_path = \"../cred.twitter\""
   ]
  },
  {
   "cell_type": "markdown",
   "metadata": {},
   "source": [
    "# Tests"
   ]
  },
  {
   "cell_type": "markdown",
   "metadata": {},
   "source": [
    "## Test data acquirer - data acquisition\n",
    "\n",
    "**Prerequisities**:\n",
    "- The data acquirer listents at a topic `config['topics']['dataacquirer_update_topic']`\n",
    "- Credentials in case of a twitter data acquirer or reddit data acquirer.\n",
    "\n",
    "**Steps**\n",
    "\n",
    "- Creates new job\n",
    "- Waits for one message\n",
    "- Checks that the message is in the a correct post\n",
    "  - Success if true, fails otherwise\n",
    "- Stops the running job"
   ]
  },
  {
   "cell_type": "code",
   "execution_count": 2,
   "metadata": {},
   "outputs": [
    {
     "name": "stderr",
     "output_type": "stream",
     "text": [
      "ERROR:root:Internal Python error in the inspect module.\n",
      "Below is the traceback from this internal error.\n",
      "\n"
     ]
    },
    {
     "name": "stdout",
     "output_type": "stream",
     "text": [
      "Traceback (most recent call last):\n",
      "  File \"C:\\Users\\Jry\\Anaconda3\\lib\\site-packages\\IPython\\core\\interactiveshell.py\", line 3267, in run_code\n",
      "    exec(code_obj, self.user_global_ns, self.user_ns)\n",
      "  File \"<ipython-input-2-e15332cc9f29>\", line 1, in <module>\n",
      "    test_da.start_test(\"../config.json\",\"../cred.json\")\n",
      "NameError: name 'test_da' is not defined\n",
      "\n",
      "During handling of the above exception, another exception occurred:\n",
      "\n",
      "Traceback (most recent call last):\n",
      "  File \"C:\\Users\\Jry\\Anaconda3\\lib\\site-packages\\IPython\\core\\interactiveshell.py\", line 2018, in showtraceback\n",
      "    stb = value._render_traceback_()\n",
      "AttributeError: 'NameError' object has no attribute '_render_traceback_'\n",
      "\n",
      "During handling of the above exception, another exception occurred:\n",
      "\n",
      "Traceback (most recent call last):\n",
      "  File \"C:\\Users\\Jry\\Anaconda3\\lib\\site-packages\\IPython\\core\\ultratb.py\", line 1095, in get_records\n",
      "    return _fixed_getinnerframes(etb, number_of_lines_of_context, tb_offset)\n",
      "  File \"C:\\Users\\Jry\\Anaconda3\\lib\\site-packages\\IPython\\core\\ultratb.py\", line 313, in wrapped\n",
      "    return f(*args, **kwargs)\n",
      "  File \"C:\\Users\\Jry\\Anaconda3\\lib\\site-packages\\IPython\\core\\ultratb.py\", line 347, in _fixed_getinnerframes\n",
      "    records = fix_frame_records_filenames(inspect.getinnerframes(etb, context))\n",
      "  File \"C:\\Users\\Jry\\Anaconda3\\lib\\inspect.py\", line 1500, in getinnerframes\n",
      "    frameinfo = (tb.tb_frame,) + getframeinfo(tb, context)\n",
      "  File \"C:\\Users\\Jry\\Anaconda3\\lib\\inspect.py\", line 1458, in getframeinfo\n",
      "    filename = getsourcefile(frame) or getfile(frame)\n",
      "  File \"C:\\Users\\Jry\\Anaconda3\\lib\\inspect.py\", line 696, in getsourcefile\n",
      "    if getattr(getmodule(object, filename), '__loader__', None) is not None:\n",
      "  File \"C:\\Users\\Jry\\Anaconda3\\lib\\inspect.py\", line 739, in getmodule\n",
      "    f = getabsfile(module)\n",
      "  File \"C:\\Users\\Jry\\Anaconda3\\lib\\inspect.py\", line 708, in getabsfile\n",
      "    _filename = getsourcefile(object) or getfile(object)\n",
      "  File \"C:\\Users\\Jry\\Anaconda3\\lib\\inspect.py\", line 687, in getsourcefile\n",
      "    if any(filename.endswith(s) for s in all_bytecode_suffixes):\n",
      "  File \"C:\\Users\\Jry\\Anaconda3\\lib\\inspect.py\", line 687, in <genexpr>\n",
      "    if any(filename.endswith(s) for s in all_bytecode_suffixes):\n",
      "AttributeError: 'dict' object has no attribute 'endswith'\n"
     ]
    },
    {
     "ename": "NameError",
     "evalue": "name 'test_da' is not defined",
     "output_type": "error",
     "traceback": [
      "\u001b[1;31m---------------------------------------------------------------------------\u001b[0m"
     ]
    }
   ],
   "source": [
    "test_da.start_test(\"../config.json\",\"../cred.json\")"
   ]
  },
  {
   "cell_type": "markdown",
   "metadata": {},
   "source": [
    "## Test job service registration\n",
    "\n",
    "**Prerequisites**:\n",
    "\n",
    "- TBA\n",
    "\n",
    "**Steps**:\n",
    "\n",
    "- TBA"
   ]
  },
  {
   "cell_type": "markdown",
   "metadata": {},
   "source": [
    "## Test job service - job submit\n",
    "\n",
    "**Prerequisites**:\n",
    "\n",
    "- TBA\n",
    "\n",
    "**Steps**:\n",
    "\n",
    "- TBA"
   ]
  },
  {
   "cell_type": "code",
   "execution_count": 10,
   "metadata": {},
   "outputs": [
    {
     "name": "stdout",
     "output_type": "stream",
     "text": [
      "config loaded successfully\n",
      "Registering new components\n",
      "Submit job config\n",
      "Assert received job configs for each component\n",
      "Asserting data acquirer job config\n",
      "Asserting analyser job config\n"
     ]
    },
    {
     "ename": "TypeError",
     "evalue": "cannot unpack non-iterable NoneType object",
     "output_type": "error",
     "traceback": [
      "\u001b[1;31m---------------------------------------------------------------------------\u001b[0m",
      "\u001b[1;31mTypeError\u001b[0m                                 Traceback (most recent call last)",
      "\u001b[1;32m<ipython-input-10-9ff7a3dca3a3>\u001b[0m in \u001b[0;36m<module>\u001b[1;34m\u001b[0m\n\u001b[0;32m    146\u001b[0m \u001b[1;31m#       start_test();\u001b[0m\u001b[1;33m\u001b[0m\u001b[1;33m\u001b[0m\u001b[1;33m\u001b[0m\u001b[0m\n\u001b[0;32m    147\u001b[0m \u001b[1;33m\u001b[0m\u001b[0m\n\u001b[1;32m--> 148\u001b[1;33m \u001b[0mstart_test\u001b[0m\u001b[1;33m(\u001b[0m\u001b[1;33m)\u001b[0m\u001b[1;33m\u001b[0m\u001b[1;33m\u001b[0m\u001b[0m\n\u001b[0m\u001b[0;32m    149\u001b[0m \u001b[1;33m\u001b[0m\u001b[0m\n\u001b[0;32m    150\u001b[0m \u001b[1;33m\u001b[0m\u001b[0m\n",
      "\u001b[1;32m<ipython-input-10-9ff7a3dca3a3>\u001b[0m in \u001b[0;36mstart_test\u001b[1;34m(config_path)\u001b[0m\n\u001b[0;32m    132\u001b[0m     \u001b[0mjms_tests\u001b[0m \u001b[1;33m=\u001b[0m \u001b[0mJmsTestCases\u001b[0m\u001b[1;33m(\u001b[0m\u001b[0mkafka\u001b[0m\u001b[1;33m,\u001b[0m\u001b[0mjms_registration\u001b[0m\u001b[1;33m)\u001b[0m\u001b[1;33m\u001b[0m\u001b[1;33m\u001b[0m\u001b[0m\n\u001b[0;32m    133\u001b[0m     \u001b[0mjms_submit_uri\u001b[0m \u001b[1;33m=\u001b[0m \u001b[0mconfig\u001b[0m\u001b[1;33m[\u001b[0m\u001b[1;34m'uris'\u001b[0m\u001b[1;33m]\u001b[0m\u001b[1;33m[\u001b[0m\u001b[1;34m'jms_submit_uri'\u001b[0m\u001b[1;33m]\u001b[0m\u001b[1;33m\u001b[0m\u001b[1;33m\u001b[0m\u001b[0m\n\u001b[1;32m--> 134\u001b[1;33m     \u001b[0msuccess\u001b[0m\u001b[1;33m,\u001b[0m\u001b[0mmessage\u001b[0m \u001b[1;33m=\u001b[0m \u001b[0mjms_tests\u001b[0m\u001b[1;33m.\u001b[0m\u001b[0mtest\u001b[0m\u001b[1;33m(\u001b[0m\u001b[0mjms_submit_uri\u001b[0m\u001b[1;33m)\u001b[0m\u001b[1;33m\u001b[0m\u001b[1;33m\u001b[0m\u001b[0m\n\u001b[0m\u001b[0;32m    135\u001b[0m     \u001b[1;32mif\u001b[0m \u001b[1;32mnot\u001b[0m \u001b[0msuccess\u001b[0m\u001b[1;33m:\u001b[0m\u001b[1;33m\u001b[0m\u001b[1;33m\u001b[0m\u001b[0m\n\u001b[0;32m    136\u001b[0m         \u001b[0mprint\u001b[0m\u001b[1;33m(\u001b[0m\u001b[1;34m\"FAIL\"\u001b[0m\u001b[1;33m,\u001b[0m \u001b[0mmessage\u001b[0m\u001b[1;33m)\u001b[0m\u001b[1;33m\u001b[0m\u001b[1;33m\u001b[0m\u001b[0m\n",
      "\u001b[1;31mTypeError\u001b[0m: cannot unpack non-iterable NoneType object"
     ]
    }
   ],
   "source": [
    "import sys\n",
    "import json\n",
    "import kafka_client\n",
    "import uuid\n",
    "import utils\n",
    "import requests\n",
    "from threading import Thread\n",
    "import time\n",
    "import traceback\n",
    "\n",
    "class JmsTestCases:    \n",
    "    def __init__(self, kafka, jms_registration_topic):\n",
    "        self.jms_registration_topic = jms_registration_topic\n",
    "        self.kafka = kafka\n",
    "\n",
    "    def _register_acquirer(self, acquirer_component_id, acquirer_update_channel):\n",
    "        registration_request_da ={\n",
    "            \"componentId\" : acquirer_component_id,\n",
    "            \"componentType\" : \"DATA_ACQUIRER\",\n",
    "            \"updateChannelName\" : acquirer_update_channel,\n",
    "            \"inputChannelName\" : \"n/a\" \n",
    "        }\n",
    "        self.kafka.produce_request(registration_request_da, self.jms_registration_topic)\n",
    "        return registration_request_da\n",
    "    \n",
    "    def _register_analyser(self, analyser_component_id, analyser_update_channel):\n",
    "        registration_request_an ={\n",
    "            \"componentId\" : analyser_component_id,\n",
    "            \"componentType\" : \"DATA_ANALYSER\",\n",
    "            \"attributes\" : {\n",
    "                \"outputFormat\" :{\n",
    "                    \"o1\" : \"numberValue\"\n",
    "                }\n",
    "            },\n",
    "            \"updateChannelName\" : analyser_update_channel,\n",
    "            \"inputChannelName\" : \"test_input_channel_analyser\" \n",
    "        }\n",
    "        self.kafka.produce_request(registration_request_an, self.jms_registration_topic)\n",
    "        return registration_request_an\n",
    "        \n",
    "    def _assert_data_acquirer_job_submit(self,\n",
    "                                         topic_query,\n",
    "                                         analyser_input_channel_name,\n",
    "                                         acquirer_update_channel):\n",
    "        print(\"Asserting data acquirer job config\")\n",
    "        job_config = self.kafka.get_message_from_topic(acquirer_update_channel)\n",
    "        if job_config is None:\n",
    "            raise Exception(\"No job config received\")\n",
    "        if \"jobId\" not in job_config:\n",
    "            raise Exception(\"Job config has no job id\")\n",
    "\n",
    "        self._assert_value(job_config['attributes']['TopicQuery'], topic_query)\n",
    "        self._assert_in(analyser_input_channel_name, job_config['outputChannelNames'])\n",
    "\n",
    "        return job_config[\"jobId\"]\n",
    "        \n",
    "    def _assert_analyser_job_submit(self,\n",
    "                                   analyser_update_channel,\n",
    "                                   job_id):\n",
    "        print(\"Asserting analyser job config\")\n",
    "            \n",
    "        job_config = self.kafka.get_message_from_topic(analyser_update_channel)\n",
    "        if job_config is None:\n",
    "            raise Exception(\"No job config received\")\n",
    "        self._assert_value(job_config['jobId'], job_id)\n",
    "        \n",
    "    def test(\n",
    "        self,\n",
    "        jms_submit_job_uri):\n",
    "        \n",
    "        current_uuid = str(uuid.uuid4())\n",
    "        current_uuid = \"f7713510-8122-4b05-835d-9a0a84609e76\"\n",
    "        \n",
    "        print( \"Registering new components\")\n",
    "        acquirer_component_id =\"test_component_acquirer_\"+current_uuid\n",
    "        acquirer_update_channel = \"topic_\"+acquirer_component_id\n",
    "        registration_request_da = self._register_acquirer(acquirer_component_id, acquirer_update_channel)\n",
    "        \n",
    "        analyser_component_id = \"test_component_analyser_\"+current_uuid\n",
    "        analyser_update_channel = \"topic_\"+analyser_component_id        \n",
    "        registration_request_an = self._register_analyser(analyser_component_id, analyser_update_channel)\n",
    "        \n",
    "        time.sleep(5)\n",
    "        \n",
    "        print(\"Submit job config\")\n",
    "        job_submit_request = {  \n",
    "            \"selectedDataAnalysers\": [ analyser_component_id ],  \n",
    "            \"selectedDataAcquirers\": [ acquirer_component_id ],  \n",
    "            \"topicQuery\": \"test query\",  \n",
    "            \"jobName\": \"my test job\",  \n",
    "            \"language\": None,  \n",
    "            \"attributes\": { \"att1\":\"value1\", \"att2\":\"value2\" }\n",
    "        }\n",
    "        data = json.dumps(job_submit_request)\n",
    "        r = requests.post(jms_submit_job_uri, data)\n",
    "        \n",
    "        job_id = None\n",
    "                \n",
    "        print(\"Assert received job configs for each component\")\n",
    "        \n",
    "        try:\n",
    "            job_id = self._assert_data_acquirer_job_submit(\n",
    "                job_submit_request[\"topicQuery\"],\n",
    "                registration_request_an['inputChannelName'],\n",
    "                acquirer_update_channel\n",
    "            )\n",
    "        except Exception:\n",
    "            return (False, traceback.format_exc())\n",
    "             \n",
    "        try:\n",
    "            self._assert_analyser_job_submit(analyser_update_channel, job_id)\n",
    "        except Exception as e:\n",
    "            return (False, \"Testing data analyser failed: {}\".format(e))\n",
    "        \n",
    "        # TODO replay\n",
    "                                    \n",
    "    def _assert_value(self, a,b):\n",
    "        if(a!=b):\n",
    "            raise Exception(\"AssertError - Invalid value. actual:{} expected:{}\".format(a,b))\n",
    "            \n",
    "    def _assert_in(self, a,b):\n",
    "        if(a not in b):\n",
    "            raise Exception(\"AssertError - Value not in array value:{} array:{}\".format(a,b))\n",
    "\n",
    "\n",
    "def start_test(config_path = \"../config.json\"):\n",
    "    config=utils.load_config(config_path)\n",
    "    kafka = kafka_client.KafkaClient(config['kafka']['kafka_server'])\n",
    "    jms_registration = config['topics']['registration_channel_name']\n",
    "    \n",
    "    \n",
    "    jms_tests = JmsTestCases(kafka,jms_registration)\n",
    "    jms_submit_uri = config['uris']['jms_submit_uri']\n",
    "    success,message = jms_tests.test(jms_submit_uri)\n",
    "    if not success:\n",
    "        print(\"FAIL\", message)\n",
    "    else :\n",
    "        print(\"SUCCESS\")\n",
    "    \n",
    "\n",
    "# if __name__ == \"__main__\":\n",
    "#   if(len(sys.argv)==3):\n",
    "#       config_path = sys.argv[1]\n",
    "#       start_test(config_path);\n",
    "#   else:\n",
    "#       start_test();\n",
    "\n",
    "start_test()\n",
    "\n",
    "\n"
   ]
  },
  {
   "cell_type": "code",
   "execution_count": 8,
   "metadata": {},
   "outputs": [
    {
     "name": "stdout",
     "output_type": "stream",
     "text": [
      "config loaded successfully\n",
      "nope\n"
     ]
    }
   ],
   "source": [
    "config=utils.load_config(\"../config.json\")\n",
    "kafka = kafka_client.KafkaClient(config['kafka']['kafka_server'])\n",
    "run_id = \"f7713510-8122-4b05-835d-9a0a84609e76\"\n",
    "topic = \"topic_test_component_analyser_{}\".format(run_id)\n",
    "topic = \"topic_test_component_acquirer_{}\".format(run_id)\n",
    "\n",
    "while True:\n",
    "    job_config = kafka.get_message_from_topic(topic)\n",
    "    if job_config is None:\n",
    "        print(\"nope\")\n",
    "        break\n",
    "    print(job_config)\n",
    "    "
   ]
  },
  {
   "cell_type": "code",
   "execution_count": null,
   "metadata": {},
   "outputs": [],
   "source": []
  }
 ],
 "metadata": {
  "kernelspec": {
   "display_name": "Python 3",
   "language": "python",
   "name": "python3"
  },
  "language_info": {
   "codemirror_mode": {
    "name": "ipython",
    "version": 3
   },
   "file_extension": ".py",
   "mimetype": "text/x-python",
   "name": "python",
   "nbconvert_exporter": "python",
   "pygments_lexer": "ipython3",
   "version": "3.7.1"
  }
 },
 "nbformat": 4,
 "nbformat_minor": 2
}
