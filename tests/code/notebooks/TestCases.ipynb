{
 "cells": [
  {
   "cell_type": "code",
   "execution_count": 12,
   "metadata": {},
   "outputs": [],
   "source": [
    "import importtestsmodule\n",
    "import json\n",
    "import kafka_client\n",
    "\n",
    "from da_testcase import test_data_acquisition"
   ]
  },
  {
   "cell_type": "markdown",
   "metadata": {},
   "source": [
    "## Configuration and topics\n",
    "\n",
    "### Config\n",
    "\n",
    "`kafka_server` - set to `localhost:9094` (use `kafka:9092` if you run it inside a container)\n",
    "\n",
    "### Topics\n",
    "\n",
    "`sentiment` - sentiment analyser\n",
    "\n",
    "### Credentials\n",
    "\n",
    "Stored in a file `cred.json`. Some data acquirers require credentials.\n"
   ]
  },
  {
   "cell_type": "code",
   "execution_count": 17,
   "metadata": {},
   "outputs": [
    {
     "name": "stdout",
     "output_type": "stream",
     "text": [
      "credentials loaded successfully\n"
     ]
    }
   ],
   "source": [
    "config = {\n",
    "    'kafka_server':'localhost:9094'\n",
    "}\n",
    "\n",
    "topics = {\n",
    "    'sentiment': 'job_management.component_data_input.DataAnalyser_topics',\n",
    "    'dataacquirer_update_topic':'job_management.job_configuration.DataAcquirer_Twitter',\n",
    "    'dataacquirer_output_posts_topics':''\n",
    "}\n",
    "\n",
    "kafka = kafka_client.KafkaClient(config['kafka_server'])\n",
    "\n",
    "cred_path = \"./cred.json\"\n",
    "cred={}\n",
    "try:\n",
    "    with open(cred_path,\"r\")as f:\n",
    "        cred = json.load(f)\n",
    "    print(\"credentials loaded successfully\")\n",
    "except:\n",
    "    print(\"could not load credentials\")"
   ]
  },
  {
   "cell_type": "markdown",
   "metadata": {},
   "source": [
    "# Tests"
   ]
  },
  {
   "cell_type": "markdown",
   "metadata": {},
   "source": [
    "## Test data acquirer \n",
    "\n",
    "**Prerequisities**:\n",
    "- The data acquirer listents at a topic `config['dataacquirer_update_topic']`\n",
    "- Credentials in case of a twitter data acquirer or reddit data acquirer.\n",
    "\n",
    "**Steps**\n",
    "\n",
    "- Creates new job\n",
    "- Waits for one message\n",
    "- Checks that the message is in the a correct post\n",
    "  - Success if true, fails otherwise\n",
    "- Stops the running job"
   ]
  },
  {
   "cell_type": "code",
   "execution_count": null,
   "metadata": {},
   "outputs": [],
   "source": [
    "mandatory = {\n",
    "        'TopicQuery':'Foo',\n",
    "     }\n",
    "attributes = dict(cred, **mandatory)\n",
    "\n",
    "jobupdatetopic = topics['dataacquirer_update_topic']\n",
    "output_topic = 'my_test_topic'\n",
    "(result,message) = test_data_acquisition(kafka,jobupdatetopic,output_topic,attributes = attributes)\n",
    "\n",
    "if not result:\n",
    "    print(\"test failed: {}\".format(message))\n",
    "else:\n",
    "    print(\"success\")\n"
   ]
  }
 ],
 "metadata": {
  "kernelspec": {
   "display_name": "Python 3",
   "language": "python",
   "name": "python3"
  },
  "language_info": {
   "codemirror_mode": {
    "name": "ipython",
    "version": 3
   },
   "file_extension": ".py",
   "mimetype": "text/x-python",
   "name": "python",
   "nbconvert_exporter": "python",
   "pygments_lexer": "ipython3",
   "version": "3.7.1"
  }
 },
 "nbformat": 4,
 "nbformat_minor": 2
}
