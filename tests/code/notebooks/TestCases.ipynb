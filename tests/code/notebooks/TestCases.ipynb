{
 "cells": [
  {
   "cell_type": "code",
   "execution_count": 1,
   "metadata": {},
   "outputs": [],
   "source": [
    "import importtestsmodule\n",
    "import json\n",
    "import kafka_client\n",
    "import utils\n",
    "import test_da"
   ]
  },
  {
   "cell_type": "markdown",
   "metadata": {},
   "source": [
    "## Configuration and topics\n",
    "\n",
    "### Config\n",
    "\n",
    "`kafka_server` - set to `localhost:9094` (use `kafka:9092` if you run it inside a container)\n",
    "\n",
    "### Topics\n",
    "\n",
    "`sentiment` - sentiment analyser\n",
    "\n",
    "### Credentials\n",
    "\n",
    "Stored in a file `cred.json`. Some data acquirers require credentials.\n"
   ]
  },
  {
   "cell_type": "code",
   "execution_count": null,
   "metadata": {},
   "outputs": [],
   "source": [
    "config=utils.load_config(\"../config.json\")\n",
    "cred_path = \"../cred.twitter\""
   ]
  },
  {
   "cell_type": "markdown",
   "metadata": {},
   "source": [
    "# Tests"
   ]
  },
  {
   "cell_type": "markdown",
   "metadata": {},
   "source": [
    "## Test data acquirer - data acquisition\n",
    "\n",
    "**Prerequisities**:\n",
    "- The data acquirer listents at a topic `config['topics']['dataacquirer_update_topic']`\n",
    "- Credentials in case of a twitter data acquirer or reddit data acquirer.\n",
    "\n",
    "**Steps**\n",
    "\n",
    "- Creates new job\n",
    "- Waits for one message\n",
    "- Checks that the message is in the a correct post\n",
    "  - Success if true, fails otherwise\n",
    "- Stops the running job"
   ]
  },
  {
   "cell_type": "code",
   "execution_count": 2,
   "metadata": {},
   "outputs": [
    {
     "name": "stderr",
     "output_type": "stream",
     "text": [
      "ERROR:root:Internal Python error in the inspect module.\n",
      "Below is the traceback from this internal error.\n",
      "\n"
     ]
    },
    {
     "name": "stdout",
     "output_type": "stream",
     "text": [
      "Traceback (most recent call last):\n",
      "  File \"C:\\Users\\Jry\\Anaconda3\\lib\\site-packages\\IPython\\core\\interactiveshell.py\", line 3267, in run_code\n",
      "    exec(code_obj, self.user_global_ns, self.user_ns)\n",
      "  File \"<ipython-input-2-e15332cc9f29>\", line 1, in <module>\n",
      "    test_da.start_test(\"../config.json\",\"../cred.json\")\n",
      "NameError: name 'test_da' is not defined\n",
      "\n",
      "During handling of the above exception, another exception occurred:\n",
      "\n",
      "Traceback (most recent call last):\n",
      "  File \"C:\\Users\\Jry\\Anaconda3\\lib\\site-packages\\IPython\\core\\interactiveshell.py\", line 2018, in showtraceback\n",
      "    stb = value._render_traceback_()\n",
      "AttributeError: 'NameError' object has no attribute '_render_traceback_'\n",
      "\n",
      "During handling of the above exception, another exception occurred:\n",
      "\n",
      "Traceback (most recent call last):\n",
      "  File \"C:\\Users\\Jry\\Anaconda3\\lib\\site-packages\\IPython\\core\\ultratb.py\", line 1095, in get_records\n",
      "    return _fixed_getinnerframes(etb, number_of_lines_of_context, tb_offset)\n",
      "  File \"C:\\Users\\Jry\\Anaconda3\\lib\\site-packages\\IPython\\core\\ultratb.py\", line 313, in wrapped\n",
      "    return f(*args, **kwargs)\n",
      "  File \"C:\\Users\\Jry\\Anaconda3\\lib\\site-packages\\IPython\\core\\ultratb.py\", line 347, in _fixed_getinnerframes\n",
      "    records = fix_frame_records_filenames(inspect.getinnerframes(etb, context))\n",
      "  File \"C:\\Users\\Jry\\Anaconda3\\lib\\inspect.py\", line 1500, in getinnerframes\n",
      "    frameinfo = (tb.tb_frame,) + getframeinfo(tb, context)\n",
      "  File \"C:\\Users\\Jry\\Anaconda3\\lib\\inspect.py\", line 1458, in getframeinfo\n",
      "    filename = getsourcefile(frame) or getfile(frame)\n",
      "  File \"C:\\Users\\Jry\\Anaconda3\\lib\\inspect.py\", line 696, in getsourcefile\n",
      "    if getattr(getmodule(object, filename), '__loader__', None) is not None:\n",
      "  File \"C:\\Users\\Jry\\Anaconda3\\lib\\inspect.py\", line 739, in getmodule\n",
      "    f = getabsfile(module)\n",
      "  File \"C:\\Users\\Jry\\Anaconda3\\lib\\inspect.py\", line 708, in getabsfile\n",
      "    _filename = getsourcefile(object) or getfile(object)\n",
      "  File \"C:\\Users\\Jry\\Anaconda3\\lib\\inspect.py\", line 687, in getsourcefile\n",
      "    if any(filename.endswith(s) for s in all_bytecode_suffixes):\n",
      "  File \"C:\\Users\\Jry\\Anaconda3\\lib\\inspect.py\", line 687, in <genexpr>\n",
      "    if any(filename.endswith(s) for s in all_bytecode_suffixes):\n",
      "AttributeError: 'dict' object has no attribute 'endswith'\n"
     ]
    },
    {
     "ename": "NameError",
     "evalue": "name 'test_da' is not defined",
     "output_type": "error",
     "traceback": [
      "\u001b[1;31m---------------------------------------------------------------------------\u001b[0m"
     ]
    }
   ],
   "source": [
    "test_da.start_test(\"../config.json\",\"../cred.json\")"
   ]
  },
  {
   "cell_type": "markdown",
   "metadata": {},
   "source": [
    "## Test job service registration\n",
    "\n",
    "**Prerequisites**:\n",
    "\n",
    "- TBA\n",
    "\n",
    "**Steps**:\n",
    "\n",
    "- TBA"
   ]
  },
  {
   "cell_type": "markdown",
   "metadata": {},
   "source": [
    "## Test job service - job submit\n",
    "\n",
    "**Prerequisites**:\n",
    "\n",
    "- TBA\n",
    "\n",
    "**Steps**:\n",
    "\n",
    "- Registering new components\n",
    "- Submit job config\n",
    "- Assert received job configs for each component\n",
    "  - Asserting data acquirer job config\n",
    "  - Asserting analyser job config\n",
    "- Assert replayed data acquirer config\n",
    "  - Asserting data acquirer job config\n",
    "  - Asserting analyser job config"
   ]
  },
  {
   "cell_type": "code",
   "execution_count": 16,
   "metadata": {},
   "outputs": [
    {
     "name": "stdout",
     "output_type": "stream",
     "text": [
      "config loaded successfully\n",
      "Registering new components\n",
      "Submit job config\n",
      "Assert received job configs for each component\n",
      "Asserting data acquirer job config\n",
      "Asserting analyser job config\n",
      "Assert replayed data acquirer config\n",
      "Asserting data acquirer job config\n",
      "Asserting analyser job config\n",
      "SUCCESS\n"
     ]
    }
   ],
   "source": [
    "test_jms.start_test(\"../config.json\")"
   ]
  },
  {
   "cell_type": "code",
   "execution_count": null,
   "metadata": {},
   "outputs": [],
   "source": []
  }
 ],
 "metadata": {
  "kernelspec": {
   "display_name": "Python 3",
   "language": "python",
   "name": "python3"
  },
  "language_info": {
   "codemirror_mode": {
    "name": "ipython",
    "version": 3
   },
   "file_extension": ".py",
   "mimetype": "text/x-python",
   "name": "python",
   "nbconvert_exporter": "python",
   "pygments_lexer": "ipython3",
   "version": "3.7.1"
  }
 },
 "nbformat": 4,
 "nbformat_minor": 2
}
