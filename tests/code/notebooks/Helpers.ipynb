{
 "cells": [
  {
   "cell_type": "code",
   "execution_count": 22,
   "metadata": {},
   "outputs": [],
   "source": [
    "import importtestsmodule\n",
    "import json\n",
    "import kafka_client\n",
    "import utils\n",
    "import uuid"
   ]
  },
  {
   "cell_type": "code",
   "execution_count": 25,
   "metadata": {},
   "outputs": [],
   "source": [
    "client = kafka_client.KafkaClient(\"localhost:9094\")\n",
    "topic = 'job_management.job_configuration.DataAcquirer_Twitter'\n",
    "output_topic = \"my_test_topic_translated\"\n",
    "cred_twitter_path = \"../twitter.cred\"\n",
    "uid =str( uuid.uuid4())"
   ]
  },
  {
   "cell_type": "code",
   "execution_count": null,
   "metadata": {},
   "outputs": [],
   "source": [
    "client.produce_stop_job(topic,jobId=uid)"
   ]
  },
  {
   "cell_type": "code",
   "execution_count": 27,
   "metadata": {},
   "outputs": [
    {
     "name": "stdout",
     "output_type": "stream",
     "text": [
      "config loaded successfully\n"
     ]
    }
   ],
   "source": [
    "config = utils.load_config(cred_twitter_path)\n",
    "\n",
    "config['TopicQuery']=\"rougeole\"\n",
    "config['Translate'] = \"true\"\n",
    "\n",
    "client.produce_start_job (topic,jobId = uid, outputMessageBrokerChannel = output_topic,attributes = config )"
   ]
  },
  {
   "cell_type": "code",
   "execution_count": 28,
   "metadata": {},
   "outputs": [
    {
     "name": "stdout",
     "output_type": "stream",
     "text": [
      "{'originalPostId': '1226145240278589442', 'postId': '5ec525b4-43fe-3177-3c36-b6f8158e8400', 'jobId': '659e9575-c79d-4054-9c17-577534b2f287', 'query': 'rougeole', 'text': '@jordaniiix @LetUsComment the risk of dying from measles in France is 1/25,000 the risk of dying from the vaccine is not/badly studied, and one can be vaccinated and do measles elsewhere.', 'originalText': \"@jordaniiix @LetUsComment le risque de mourir d'une rougeole en France est &lt; a 1 / 25'000 le risque de mourir du vaccin est pas/mal étudié, et on peut être vacciné et faire la rougeole d'ailleurs.\", 'language': 'fr', 'source': 'twitter', 'authorId': 'vaccinologie', 'dateTime': '2020-02-08T14:06:20'}\n",
      "{'originalPostId': '1226144859259645954', 'postId': 'd23aaa71-e05a-4e0b-8318-5860d4fd2700', 'jobId': '659e9575-c79d-4054-9c17-577534b2f287', 'query': 'rougeole', 'text': \"@XTrente @agnesbuzyn You've always been told that you're a little problem with measles.\", 'originalText': '@XTrente @agnesbuzyn On vous a toujours dit que vous etiez des petits cons meme probleme avec la rougeole', 'language': 'fr', 'source': 'twitter', 'authorId': 'airnation', 'dateTime': '2020-02-08T14:04:49'}\n",
      "{'originalPostId': '1226134510972100609', 'postId': '372c6d91-e640-311c-3c36-b64f6ea79e00', 'jobId': '659e9575-c79d-4054-9c17-577534b2f287', 'query': 'rougeole', 'text': \"@jordaniiix you move the goal there, the fatality rate has well gone from 1 / 20,000 to 1 / 540, so measles has become more dangerous, it's factual. https://t.co/Ds0TZlx02w\", 'originalText': \"@jordaniiix vous déplacez le but la, le taux de létalité est bien passé de 1 / 20'000 a 1 / 540, donc la rougeole est devenu plus dangereuse, c'est factuel. https://t.co/Ds0TZlx02w\", 'language': 'fr', 'source': 'twitter', 'authorId': 'vaccinologie', 'dateTime': '2020-02-08T13:23:42'}\n",
      "{'originalPostId': '1226134240993169408', 'postId': 'df6664c6-ce20-3110-3c36-b68885c74600', 'jobId': '659e9575-c79d-4054-9c17-577534b2f287', 'query': 'rougeole', 'text': '@jordaniiix measles is not the road and the vaccine is not a car If measles killed one person for 20,000 cases and now kills 1 in 500, it is good that 19,500 people have been vaccinated nothing, thank you for demonstrating it.', 'originalText': \"@jordaniiix la rougeole n'est pas la route et le vaccin n'est pas une voiture Si la rougeole tuait une personne pour 20'000 cas et qu'elle en tue maintenant 1 pour 500, c'est bien qu'on a vacciné 19500 personnes rien, merci de l'avoir démontré.\", 'language': 'fr', 'source': 'twitter', 'authorId': 'vaccinologie', 'dateTime': '2020-02-08T13:22:38'}\n",
      "{'originalPostId': '1226131890211606528', 'postId': '705b8de7-b568-2fdc-f3bd-9fb2fd37bb00', 'jobId': '659e9575-c79d-4054-9c17-577534b2f287', 'query': 'rougeole', 'text': '@Conflits_FR I do not know if it is more dangerous but in any case measles we have a vaccine especially!! Part of the population is protected and the pandemic is therefore more controllable', 'originalText': '@Conflits_FR Je ne sais pas si il est plus dangereux mais en tous cas la rougeole on a un vaccin surtout !! Une partie de la population est protégée et la pandémie est donc plus contrôlable', 'language': 'fr', 'source': 'twitter', 'authorId': 'Dynn_A_mythe', 'dateTime': '2020-02-08T13:13:17'}\n",
      "{'originalPostId': '1226131639463534592', 'postId': '23c0ee84-7adb-e3e1-fea8-42455a810b00', 'jobId': '659e9575-c79d-4054-9c17-577534b2f287', 'query': 'rougeole', 'text': '#ultimora Bambino safely returns from Wuhan, but takes measles to the son of two novaxes https://t.co/XBFpoTVe1y', 'originalText': '#ultimora Bambino revient en toute sécurité de Wuhan, mais prend la rougeole au fils de deux novaxes https://t.co/XBFpoTVe1y', 'language': 'fr', 'source': 'twitter', 'authorId': 'CrasseuxSpinoza', 'dateTime': '2020-02-08T13:12:17'}\n",
      "{'originalPostId': '1226131490498633728', 'postId': 'ab3ecff6-6d2f-a009-862f-7252bcbef700', 'jobId': '659e9575-c79d-4054-9c17-577534b2f287', 'query': 'rougeole', 'text': '@jordaniiix @vaccinologie At the beginning of the 20th century, in France, measles killed more than three thousand children a year, according to Jean Paraf and Jean Bernard, \"Measles\" (paper 8041), Medical-Surgical Encyclopedia - Infectious Diseases, 1946, p. 4. For 500,000 infected...', 'originalText': '@jordaniiix @vaccinologie Au début du XXe siècle, en France, la rougeole tuait plus de trois mille enfants par an, selon Jean Paraf et Jean Bernard, « Rougeole » (fascicule 8041), Encyclopédie médico-chirurgicale - maladies infectieuses, 1946, p. 4. Pour 500.000 infectés...', 'language': 'fr', 'source': 'twitter', 'authorId': 'o_menore', 'dateTime': '2020-02-08T13:11:42'}\n",
      "{'originalPostId': '1226127312862818304', 'postId': 'a84d2708-c76d-3556-6fd0-998ccd61bd00', 'jobId': '659e9575-c79d-4054-9c17-577534b2f287', 'query': 'rougeole', 'text': 'I have a letter that says who has a disease (measles) in high school and who should go and see if we are vaccinated heuuu okeyy', 'originalText': 'Jviens de recevoir une lettre qui dit qui a une maladie ( rougeole) au lycée et qui faut aller voir si on est vaccinés heuuu okeyy', 'language': 'fr', 'source': 'twitter', 'authorId': 'j_bsnk', 'dateTime': '2020-02-08T12:55:06'}\n",
      "{'originalPostId': '1226126895592464385', 'postId': 'a637cc51-b501-315d-3c36-b6c1dc20b700', 'jobId': '659e9575-c79d-4054-9c17-577534b2f287', 'query': 'rougeole', 'text': '@jordaniiix you confuse the death toll with the mortality rate in addition to mixing everything and anything since the frequencies of measles complications dependent on the affected pop, since the living conditions determine them.', 'originalText': \"@jordaniiix vous confondez le nombre de mort et le taux de mortalité en plus de mélanger tout et n'importe quoi puisque les frequences des complications de la rougeole dépendant des pop touchées, puisque les conditions de vie les determinent.\", 'language': 'fr', 'source': 'twitter', 'authorId': 'vaccinologie', 'dateTime': '2020-02-08T12:53:26'}\n",
      "{'originalPostId': '1226121762594795520', 'postId': 'c2742bc5-6250-639c-602b-864ff7629300', 'jobId': '659e9575-c79d-4054-9c17-577534b2f287', 'query': 'rougeole', 'text': '@vaccinologieFalse measles death toll has been reduced considerably as a result of vaccination: therefore, following vaccination, it is a \"less dangerous\" diseasehttps://t.co/WYBlXpN8Lc', 'originalText': '@vaccinologie Faux le nombres de mort de la rougeole a considérablement réduit suite à la vaccination : donc suite à la vaccination c’est une maladie « « « moins dangereuse » » » https://t.co/WYBlXpN8Lc', 'language': 'fr', 'source': 'twitter', 'authorId': 'jordaniiix', 'dateTime': '2020-02-08T12:33:03'}\n",
      "{'originalPostId': '1226118278935871489', 'postId': '3f9ff594-05ab-3154-3c36-b693a3a44e00', 'jobId': '659e9575-c79d-4054-9c17-577534b2f287', 'query': 'rougeole', 'text': '@jordaniiix and so you did not answer, how could measles have become 40 times dangerous since routine vaccination in France? (1 death per 20,000 cases before routine vaccination has 1 death for 541 (known) after?)', 'originalText': \"@jordaniiix et donc vous n'avez pas répondu, comment la rougeole aurait pu être devenu 40 fois dangereux depuis la vaccination systématique en France ? (1 mort pour 20'000 cas avant la vaccination systématique a 1 mort pour 541 (connus) après ?)\", 'language': 'fr', 'source': 'twitter', 'authorId': 'vaccinologie', 'dateTime': '2020-02-08T12:19:12'}\n",
      "{'originalPostId': '1226112873958690817', 'postId': '665d0e8e-2e34-63f3-602b-863407003a00', 'jobId': '659e9575-c79d-4054-9c17-577534b2f287', 'query': 'rougeole', 'text': \"@LetUsComment But it's my great demonstrates me so that it is safer to chopper measles rather than vaccinate. No problem... What is the risk of dying from vaccination? What is the risk of dying from measles? Come on:) and ah yes by the ⬇️ https://t.co/SiDOscqVrh\", 'originalText': '@LetUsComment Mais ça y mon grand démontre moi donc qu’il est plus sûr de chopper la rougeole plutôt que de ce vacciner. Pas de problème... quel est le risque de mourir lors d’une vaccination ? Quel est le risque de mourir de la rougeole ? Allez :) et ah oui au fait ⬇️ https://t.co/SiDOscqVrh', 'language': 'fr', 'source': 'twitter', 'authorId': 'jordaniiix', 'dateTime': '2020-02-08T11:57:43'}\n"
     ]
    },
    {
     "name": "stdout",
     "output_type": "stream",
     "text": [
      "{'originalPostId': '1226110122285576194', 'postId': 'c9bae267-8514-cc5a-9e8e-3b269b63d800', 'jobId': '659e9575-c79d-4054-9c17-577534b2f287', 'query': 'rougeole', 'text': 'This medication can cure malaria, typhoid fever, HIV, measles, Ebola, sexual weakness....... Etc... It only costs 200 F ME: https://t.co/YbnUxLmivX', 'originalText': \"Ce médicament peut guérir le paludisme, la fièvre typhoïde, le VIH, la rougeole l'Ebola, la faiblesse sexuelle....... etc... Il ne coûte que 200 F MOI: https://t.co/YbnUxLmivX\", 'language': 'fr', 'source': 'twitter', 'authorId': 'APOLOVE93', 'dateTime': '2020-02-08T11:46:47'}\n",
      "{'originalPostId': '1226108131249401856', 'postId': '28571962-cae0-7c66-56c5-f39578f2c300', 'jobId': '659e9575-c79d-4054-9c17-577534b2f287', 'query': 'rougeole', 'text': '@Dynn_A_mythe @Conflits_FR Measles is much more contagious than a coronavirus but less dangerous', 'originalText': \"@Dynn_A_mythe @Conflits_FR La rougeole est beaucoup plus contagieuse qu'un coronavirus mais moins dangereuse\", 'language': 'fr', 'source': 'twitter', 'authorId': 'Maaanick', 'dateTime': '2020-02-08T11:38:53'}\n",
      "{'originalPostId': '1226103445163212800', 'postId': '6f29dab6-fa8e-e42b-6a06-cdbfc7a2d900', 'jobId': '659e9575-c79d-4054-9c17-577534b2f287', 'query': 'rougeole', 'text': 'Thanks I watched the video and shock with the reminder of measles mortality.... https://t.co/EAfmrK79JX', 'originalText': \"Merci j'ai regardé la vidéo et le choc avec le rappel de la mortalité de la rougeole .... https://t.co/EAfmrK79JX\", 'language': 'fr', 'source': 'twitter', 'authorId': 'isabelle_miton', 'dateTime': '2020-02-08T11:20:15'}\n",
      "{'originalPostId': '1226097674816049153', 'postId': '6bfafa6c-13a3-1ffc-c128-f11f4cdc5300', 'jobId': '659e9575-c79d-4054-9c17-577534b2f287', 'query': 'rougeole', 'text': \"@Naino13 @les_vaxxeuses If you caught measles two days after the Vaccine it's surely that\", 'originalText': \"@Naino13 @les_vaxxeuses Si vous avez attrapé la rougeole deux jours après le Vaccin c'est sûrement ça\", 'language': 'fr', 'source': 'twitter', 'authorId': 'AspergerDefense', 'dateTime': '2020-02-08T10:57:20'}\n",
      "{'originalPostId': '1226097222892347392', 'postId': '01771bb5-7906-6994-553c-75ea96967f00', 'jobId': '659e9575-c79d-4054-9c17-577534b2f287', 'query': 'rougeole', 'text': \"@AspergerDefense @les_vaxxeuses We didn't get rubella or mumps. They just need to be incubating. As a result, the measles vaccine did not have time to take effect.\", 'originalText': \"@AspergerDefense @les_vaxxeuses On a pas contracté la rubéole ni les oreillons. Ils suffit juste qu'on était deja en incubation. Du coup le vaccin de la rougeole n'as pas eu le temps de faire effet.\", 'language': 'fr', 'source': 'twitter', 'authorId': 'Naino13', 'dateTime': '2020-02-08T10:55:32'}\n",
      "{'originalPostId': '1226095514577489920', 'postId': '6071d3bd-c4da-6994-553c-75a4850ff400', 'jobId': '659e9575-c79d-4054-9c17-577534b2f287', 'query': 'rougeole', 'text': \"@AspergerDefense @les_vaxxeuses After there are always exceptions. My sisters and I were vaccinated MMR and that didn't stop us from getting measles one after xD my doctor couldn't believe it.\", 'originalText': '@AspergerDefense @les_vaxxeuses Après il y a toujours des exceptions. Mes soeur et moi avont était vacciné ROR et ça nous à pas empêché de contracter la rougeole une a une après xD mon médecin en revenait pas.', 'language': 'fr', 'source': 'twitter', 'authorId': 'Naino13', 'dateTime': '2020-02-08T10:48:45'}\n",
      "{'originalPostId': '1226095092542382081', 'postId': '550321e4-b4ba-7f2a-5d37-3f28b5744a00', 'jobId': '659e9575-c79d-4054-9c17-577534b2f287', 'query': 'rougeole', 'text': 'A vaccination campaign in #SoudanDuSud to protect 2.5 million children from measles #UNICEF https://t.co/3bPBCxaErx https://t.co/FzSHH8WXQt', 'originalText': 'Une campagne de vaccination au #SoudanDuSud pour protéger 2,5 millions d’enfants contre la rougeole #UNICEF https://t.co/3bPBCxaErx https://t.co/FzSHH8WXQt', 'language': 'fr', 'source': 'twitter', 'authorId': 'courrierarabe', 'dateTime': '2020-02-08T10:47:04'}\n",
      "{'originalPostId': '1226093611839893504', 'postId': '27c830d2-f713-2f33-f3bd-9fdc530c0f00', 'jobId': '659e9575-c79d-4054-9c17-577534b2f287', 'query': 'rougeole', 'text': '@Conflits_FR When we already see the contamination that measles had caused in Val Thorens last year... it stinks this story', 'originalText': \"@Conflits_FR Quand on voit déjà la contamination que la rougeole avait fait a Val Thorens l'année dernière...ça pue cette histoire\", 'language': 'fr', 'source': 'twitter', 'authorId': 'Dynn_A_mythe', 'dateTime': '2020-02-08T10:41:11'}\n",
      "{'originalPostId': '1226090005854085120', 'postId': 'ac32ca4e-b19d-1276-9386-5f182ec83800', 'jobId': '659e9575-c79d-4054-9c17-577534b2f287', 'query': 'rougeole', 'text': '@madotrave @Lina53828187 @Achantry_ @MinSoliSante measles @MinSoliSante which also has an asymptomatic sentence', 'originalText': '@madotrave @Lina53828187 @Achantry_ @MinSoliSante Rougeole qui elle aussi a une phrase asymptomatique', 'language': 'fr', 'source': 'twitter', 'authorId': 'Ad31__', 'dateTime': '2020-02-08T10:26:51'}\n"
     ]
    },
    {
     "ename": "KeyboardInterrupt",
     "evalue": "",
     "output_type": "error",
     "traceback": [
      "\u001b[1;31m---------------------------------------------------------------------------\u001b[0m",
      "\u001b[1;31mKeyboardInterrupt\u001b[0m                         Traceback (most recent call last)",
      "\u001b[1;32m<ipython-input-28-8726fa2008df>\u001b[0m in \u001b[0;36m<module>\u001b[1;34m\u001b[0m\n\u001b[0;32m      1\u001b[0m \u001b[1;33m\u001b[0m\u001b[0m\n\u001b[0;32m      2\u001b[0m \u001b[1;32mwhile\u001b[0m \u001b[1;32mTrue\u001b[0m\u001b[1;33m:\u001b[0m\u001b[1;33m\u001b[0m\u001b[1;33m\u001b[0m\u001b[0m\n\u001b[1;32m----> 3\u001b[1;33m     \u001b[0mprint\u001b[0m\u001b[1;33m(\u001b[0m\u001b[0mclient\u001b[0m\u001b[1;33m.\u001b[0m\u001b[0mget_message_from_topic\u001b[0m\u001b[1;33m(\u001b[0m\u001b[0moutput_topic\u001b[0m\u001b[1;33m)\u001b[0m\u001b[1;33m)\u001b[0m\u001b[1;33m\u001b[0m\u001b[1;33m\u001b[0m\u001b[0m\n\u001b[0m",
      "\u001b[1;32m~\\swproj\\socneto\\tests\\code\\kafka_client.py\u001b[0m in \u001b[0;36mget_message_from_topic\u001b[1;34m(self, topic, repeat_times)\u001b[0m\n\u001b[0;32m     25\u001b[0m \u001b[1;33m\u001b[0m\u001b[0m\n\u001b[0;32m     26\u001b[0m         \u001b[1;32mwhile\u001b[0m \u001b[0mrepeat_times\u001b[0m\u001b[1;33m==\u001b[0m\u001b[1;36m0\u001b[0m \u001b[1;32mor\u001b[0m \u001b[0mi\u001b[0m \u001b[1;33m<\u001b[0m \u001b[0mrepeat_times\u001b[0m\u001b[1;33m:\u001b[0m\u001b[1;33m\u001b[0m\u001b[1;33m\u001b[0m\u001b[0m\n\u001b[1;32m---> 27\u001b[1;33m             \u001b[1;32mfor\u001b[0m \u001b[0mmsg\u001b[0m \u001b[1;32min\u001b[0m \u001b[0mconsumer\u001b[0m\u001b[1;33m:\u001b[0m\u001b[1;33m\u001b[0m\u001b[1;33m\u001b[0m\u001b[0m\n\u001b[0m\u001b[0;32m     28\u001b[0m                 \u001b[1;32mtry\u001b[0m\u001b[1;33m:\u001b[0m\u001b[1;33m\u001b[0m\u001b[1;33m\u001b[0m\u001b[0m\n\u001b[0;32m     29\u001b[0m                     \u001b[0mpayload\u001b[0m \u001b[1;33m=\u001b[0m \u001b[0mmsg\u001b[0m\u001b[1;33m.\u001b[0m\u001b[0mvalue\u001b[0m\u001b[1;33m\u001b[0m\u001b[1;33m\u001b[0m\u001b[0m\n",
      "\u001b[1;32m~\\Anaconda3\\lib\\site-packages\\kafka\\consumer\\group.py\u001b[0m in \u001b[0;36m__next__\u001b[1;34m(self)\u001b[0m\n\u001b[0;32m   1118\u001b[0m         \u001b[0mself\u001b[0m\u001b[1;33m.\u001b[0m\u001b[0m_set_consumer_timeout\u001b[0m\u001b[1;33m(\u001b[0m\u001b[1;33m)\u001b[0m\u001b[1;33m\u001b[0m\u001b[1;33m\u001b[0m\u001b[0m\n\u001b[0;32m   1119\u001b[0m         \u001b[1;32mtry\u001b[0m\u001b[1;33m:\u001b[0m\u001b[1;33m\u001b[0m\u001b[1;33m\u001b[0m\u001b[0m\n\u001b[1;32m-> 1120\u001b[1;33m             \u001b[1;32mreturn\u001b[0m \u001b[0mnext\u001b[0m\u001b[1;33m(\u001b[0m\u001b[0mself\u001b[0m\u001b[1;33m.\u001b[0m\u001b[0m_iterator\u001b[0m\u001b[1;33m)\u001b[0m\u001b[1;33m\u001b[0m\u001b[1;33m\u001b[0m\u001b[0m\n\u001b[0m\u001b[0;32m   1121\u001b[0m         \u001b[1;32mexcept\u001b[0m \u001b[0mStopIteration\u001b[0m\u001b[1;33m:\u001b[0m\u001b[1;33m\u001b[0m\u001b[1;33m\u001b[0m\u001b[0m\n\u001b[0;32m   1122\u001b[0m             \u001b[0mself\u001b[0m\u001b[1;33m.\u001b[0m\u001b[0m_iterator\u001b[0m \u001b[1;33m=\u001b[0m \u001b[1;32mNone\u001b[0m\u001b[1;33m\u001b[0m\u001b[1;33m\u001b[0m\u001b[0m\n",
      "\u001b[1;32m~\\Anaconda3\\lib\\site-packages\\kafka\\consumer\\group.py\u001b[0m in \u001b[0;36m_message_generator\u001b[1;34m(self)\u001b[0m\n\u001b[0;32m   1073\u001b[0m             \u001b[1;32mif\u001b[0m \u001b[1;32mnot\u001b[0m \u001b[0mself\u001b[0m\u001b[1;33m.\u001b[0m\u001b[0m_fetcher\u001b[0m\u001b[1;33m.\u001b[0m\u001b[0min_flight_fetches\u001b[0m\u001b[1;33m(\u001b[0m\u001b[1;33m)\u001b[0m\u001b[1;33m:\u001b[0m\u001b[1;33m\u001b[0m\u001b[1;33m\u001b[0m\u001b[0m\n\u001b[0;32m   1074\u001b[0m                 \u001b[0mpoll_ms\u001b[0m \u001b[1;33m=\u001b[0m \u001b[0mmin\u001b[0m\u001b[1;33m(\u001b[0m\u001b[0mpoll_ms\u001b[0m\u001b[1;33m,\u001b[0m \u001b[0mself\u001b[0m\u001b[1;33m.\u001b[0m\u001b[0mconfig\u001b[0m\u001b[1;33m[\u001b[0m\u001b[1;34m'reconnect_backoff_ms'\u001b[0m\u001b[1;33m]\u001b[0m\u001b[1;33m)\u001b[0m\u001b[1;33m\u001b[0m\u001b[1;33m\u001b[0m\u001b[0m\n\u001b[1;32m-> 1075\u001b[1;33m             \u001b[0mself\u001b[0m\u001b[1;33m.\u001b[0m\u001b[0m_client\u001b[0m\u001b[1;33m.\u001b[0m\u001b[0mpoll\u001b[0m\u001b[1;33m(\u001b[0m\u001b[0mtimeout_ms\u001b[0m\u001b[1;33m=\u001b[0m\u001b[0mpoll_ms\u001b[0m\u001b[1;33m)\u001b[0m\u001b[1;33m\u001b[0m\u001b[1;33m\u001b[0m\u001b[0m\n\u001b[0m\u001b[0;32m   1076\u001b[0m \u001b[1;33m\u001b[0m\u001b[0m\n\u001b[0;32m   1077\u001b[0m             \u001b[1;31m# after the long poll, we should check whether the group needs to rebalance\u001b[0m\u001b[1;33m\u001b[0m\u001b[1;33m\u001b[0m\u001b[1;33m\u001b[0m\u001b[0m\n",
      "\u001b[1;32m~\\Anaconda3\\lib\\site-packages\\kafka\\client_async.py\u001b[0m in \u001b[0;36mpoll\u001b[1;34m(self, timeout_ms, future)\u001b[0m\n\u001b[0;32m    591\u001b[0m                     \u001b[0mtimeout\u001b[0m \u001b[1;33m=\u001b[0m \u001b[0mmax\u001b[0m\u001b[1;33m(\u001b[0m\u001b[1;36m0\u001b[0m\u001b[1;33m,\u001b[0m \u001b[0mtimeout\u001b[0m \u001b[1;33m/\u001b[0m \u001b[1;36m1000\u001b[0m\u001b[1;33m)\u001b[0m  \u001b[1;31m# avoid negative timeouts\u001b[0m\u001b[1;33m\u001b[0m\u001b[1;33m\u001b[0m\u001b[0m\n\u001b[0;32m    592\u001b[0m \u001b[1;33m\u001b[0m\u001b[0m\n\u001b[1;32m--> 593\u001b[1;33m                 \u001b[0mself\u001b[0m\u001b[1;33m.\u001b[0m\u001b[0m_poll\u001b[0m\u001b[1;33m(\u001b[0m\u001b[0mtimeout\u001b[0m\u001b[1;33m)\u001b[0m\u001b[1;33m\u001b[0m\u001b[1;33m\u001b[0m\u001b[0m\n\u001b[0m\u001b[0;32m    594\u001b[0m \u001b[1;33m\u001b[0m\u001b[0m\n\u001b[0;32m    595\u001b[0m                 \u001b[0mresponses\u001b[0m\u001b[1;33m.\u001b[0m\u001b[0mextend\u001b[0m\u001b[1;33m(\u001b[0m\u001b[0mself\u001b[0m\u001b[1;33m.\u001b[0m\u001b[0m_fire_pending_completed_requests\u001b[0m\u001b[1;33m(\u001b[0m\u001b[1;33m)\u001b[0m\u001b[1;33m)\u001b[0m\u001b[1;33m\u001b[0m\u001b[1;33m\u001b[0m\u001b[0m\n",
      "\u001b[1;32m~\\Anaconda3\\lib\\site-packages\\kafka\\client_async.py\u001b[0m in \u001b[0;36m_poll\u001b[1;34m(self, timeout)\u001b[0m\n\u001b[0;32m    612\u001b[0m \u001b[1;33m\u001b[0m\u001b[0m\n\u001b[0;32m    613\u001b[0m         \u001b[0mstart_select\u001b[0m \u001b[1;33m=\u001b[0m \u001b[0mtime\u001b[0m\u001b[1;33m.\u001b[0m\u001b[0mtime\u001b[0m\u001b[1;33m(\u001b[0m\u001b[1;33m)\u001b[0m\u001b[1;33m\u001b[0m\u001b[1;33m\u001b[0m\u001b[0m\n\u001b[1;32m--> 614\u001b[1;33m         \u001b[0mready\u001b[0m \u001b[1;33m=\u001b[0m \u001b[0mself\u001b[0m\u001b[1;33m.\u001b[0m\u001b[0m_selector\u001b[0m\u001b[1;33m.\u001b[0m\u001b[0mselect\u001b[0m\u001b[1;33m(\u001b[0m\u001b[0mtimeout\u001b[0m\u001b[1;33m)\u001b[0m\u001b[1;33m\u001b[0m\u001b[1;33m\u001b[0m\u001b[0m\n\u001b[0m\u001b[0;32m    615\u001b[0m         \u001b[0mend_select\u001b[0m \u001b[1;33m=\u001b[0m \u001b[0mtime\u001b[0m\u001b[1;33m.\u001b[0m\u001b[0mtime\u001b[0m\u001b[1;33m(\u001b[0m\u001b[1;33m)\u001b[0m\u001b[1;33m\u001b[0m\u001b[1;33m\u001b[0m\u001b[0m\n\u001b[0;32m    616\u001b[0m         \u001b[1;32mif\u001b[0m \u001b[0mself\u001b[0m\u001b[1;33m.\u001b[0m\u001b[0m_sensors\u001b[0m\u001b[1;33m:\u001b[0m\u001b[1;33m\u001b[0m\u001b[1;33m\u001b[0m\u001b[0m\n",
      "\u001b[1;32m~\\Anaconda3\\lib\\selectors.py\u001b[0m in \u001b[0;36mselect\u001b[1;34m(self, timeout)\u001b[0m\n\u001b[0;32m    321\u001b[0m         \u001b[0mready\u001b[0m \u001b[1;33m=\u001b[0m \u001b[1;33m[\u001b[0m\u001b[1;33m]\u001b[0m\u001b[1;33m\u001b[0m\u001b[1;33m\u001b[0m\u001b[0m\n\u001b[0;32m    322\u001b[0m         \u001b[1;32mtry\u001b[0m\u001b[1;33m:\u001b[0m\u001b[1;33m\u001b[0m\u001b[1;33m\u001b[0m\u001b[0m\n\u001b[1;32m--> 323\u001b[1;33m             \u001b[0mr\u001b[0m\u001b[1;33m,\u001b[0m \u001b[0mw\u001b[0m\u001b[1;33m,\u001b[0m \u001b[0m_\u001b[0m \u001b[1;33m=\u001b[0m \u001b[0mself\u001b[0m\u001b[1;33m.\u001b[0m\u001b[0m_select\u001b[0m\u001b[1;33m(\u001b[0m\u001b[0mself\u001b[0m\u001b[1;33m.\u001b[0m\u001b[0m_readers\u001b[0m\u001b[1;33m,\u001b[0m \u001b[0mself\u001b[0m\u001b[1;33m.\u001b[0m\u001b[0m_writers\u001b[0m\u001b[1;33m,\u001b[0m \u001b[1;33m[\u001b[0m\u001b[1;33m]\u001b[0m\u001b[1;33m,\u001b[0m \u001b[0mtimeout\u001b[0m\u001b[1;33m)\u001b[0m\u001b[1;33m\u001b[0m\u001b[1;33m\u001b[0m\u001b[0m\n\u001b[0m\u001b[0;32m    324\u001b[0m         \u001b[1;32mexcept\u001b[0m \u001b[0mInterruptedError\u001b[0m\u001b[1;33m:\u001b[0m\u001b[1;33m\u001b[0m\u001b[1;33m\u001b[0m\u001b[0m\n\u001b[0;32m    325\u001b[0m             \u001b[1;32mreturn\u001b[0m \u001b[0mready\u001b[0m\u001b[1;33m\u001b[0m\u001b[1;33m\u001b[0m\u001b[0m\n",
      "\u001b[1;32m~\\Anaconda3\\lib\\selectors.py\u001b[0m in \u001b[0;36m_select\u001b[1;34m(self, r, w, _, timeout)\u001b[0m\n\u001b[0;32m    312\u001b[0m     \u001b[1;32mif\u001b[0m \u001b[0msys\u001b[0m\u001b[1;33m.\u001b[0m\u001b[0mplatform\u001b[0m \u001b[1;33m==\u001b[0m \u001b[1;34m'win32'\u001b[0m\u001b[1;33m:\u001b[0m\u001b[1;33m\u001b[0m\u001b[1;33m\u001b[0m\u001b[0m\n\u001b[0;32m    313\u001b[0m         \u001b[1;32mdef\u001b[0m \u001b[0m_select\u001b[0m\u001b[1;33m(\u001b[0m\u001b[0mself\u001b[0m\u001b[1;33m,\u001b[0m \u001b[0mr\u001b[0m\u001b[1;33m,\u001b[0m \u001b[0mw\u001b[0m\u001b[1;33m,\u001b[0m \u001b[0m_\u001b[0m\u001b[1;33m,\u001b[0m \u001b[0mtimeout\u001b[0m\u001b[1;33m=\u001b[0m\u001b[1;32mNone\u001b[0m\u001b[1;33m)\u001b[0m\u001b[1;33m:\u001b[0m\u001b[1;33m\u001b[0m\u001b[1;33m\u001b[0m\u001b[0m\n\u001b[1;32m--> 314\u001b[1;33m             \u001b[0mr\u001b[0m\u001b[1;33m,\u001b[0m \u001b[0mw\u001b[0m\u001b[1;33m,\u001b[0m \u001b[0mx\u001b[0m \u001b[1;33m=\u001b[0m \u001b[0mselect\u001b[0m\u001b[1;33m.\u001b[0m\u001b[0mselect\u001b[0m\u001b[1;33m(\u001b[0m\u001b[0mr\u001b[0m\u001b[1;33m,\u001b[0m \u001b[0mw\u001b[0m\u001b[1;33m,\u001b[0m \u001b[0mw\u001b[0m\u001b[1;33m,\u001b[0m \u001b[0mtimeout\u001b[0m\u001b[1;33m)\u001b[0m\u001b[1;33m\u001b[0m\u001b[1;33m\u001b[0m\u001b[0m\n\u001b[0m\u001b[0;32m    315\u001b[0m             \u001b[1;32mreturn\u001b[0m \u001b[0mr\u001b[0m\u001b[1;33m,\u001b[0m \u001b[0mw\u001b[0m \u001b[1;33m+\u001b[0m \u001b[0mx\u001b[0m\u001b[1;33m,\u001b[0m \u001b[1;33m[\u001b[0m\u001b[1;33m]\u001b[0m\u001b[1;33m\u001b[0m\u001b[1;33m\u001b[0m\u001b[0m\n\u001b[0;32m    316\u001b[0m     \u001b[1;32melse\u001b[0m\u001b[1;33m:\u001b[0m\u001b[1;33m\u001b[0m\u001b[1;33m\u001b[0m\u001b[0m\n",
      "\u001b[1;31mKeyboardInterrupt\u001b[0m: "
     ]
    }
   ],
   "source": [
    "\n",
    "while True:\n",
    "    print(client.get_message_from_topic(output_topic))\n"
   ]
  }
 ],
 "metadata": {
  "kernelspec": {
   "display_name": "Python 3",
   "language": "python",
   "name": "python3"
  },
  "language_info": {
   "codemirror_mode": {
    "name": "ipython",
    "version": 3
   },
   "file_extension": ".py",
   "mimetype": "text/x-python",
   "name": "python",
   "nbconvert_exporter": "python",
   "pygments_lexer": "ipython3",
   "version": "3.7.1"
  }
 },
 "nbformat": 4,
 "nbformat_minor": 2
}
